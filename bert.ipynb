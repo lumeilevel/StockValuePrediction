{
 "cells": [
  {
   "cell_type": "code",
   "execution_count": 1,
   "metadata": {},
   "outputs": [
    {
     "name": "stdout",
     "output_type": "stream",
     "text": [
      "2.10.1\n"
     ]
    },
    {
     "data": {
      "text/plain": "[PhysicalDevice(name='/physical_device:GPU:0', device_type='GPU')]"
     },
     "execution_count": 1,
     "metadata": {},
     "output_type": "execute_result"
    }
   ],
   "source": [
    "import os\n",
    "import shutil\n",
    "\n",
    "import tensorflow as tf\n",
    "import tensorflow_hub as hub\n",
    "import tensorflow_text as text          # needed for loading bert from hub\n",
    "from official.nlp import optimization   # to create AdamW optimizer\n",
    "\n",
    "from matplotlib import pyplot as plt\n",
    "\n",
    "tf.get_logger().setLevel('ERROR')\n",
    "print(tf.__version__)\n",
    "tf.config.list_physical_devices('GPU')"
   ]
  },
  {
   "cell_type": "code",
   "execution_count": 2,
   "metadata": {},
   "outputs": [
    {
     "name": "stdout",
     "output_type": "stream",
     "text": [
      "Total number of news: 30339\n",
      "Maximum number of news for each group in training set: 64\n",
      "Minimum number of news for each group in training set: 3\n",
      "Maximum number of news for each group in test set: 26\n",
      "Minimum number of news for each group in test set: 3\n",
      "Maximum number of times a news appears in training set: 22\n",
      "Minimum number of times a news appears in training set: 0\n",
      "Maximum number of times a news appears in test set: 11\n",
      "Minimum number of times a news appears in test set: 0\n"
     ]
    }
   ],
   "source": [
    "from preprocessing import raw_ds\n",
    "\n",
    "AUTOTUNE = tf.data.AUTOTUNE\n",
    "BUFFER_SIZE = 256\n",
    "BATCH_SIZE = 32"
   ]
  },
  {
   "cell_type": "code",
   "execution_count": 3,
   "metadata": {},
   "outputs": [
    {
     "data": {
      "text/plain": "(<PrefetchDataset element_spec=(TensorSpec(shape=(None, 2), dtype=tf.string, name=None), TensorSpec(shape=(None,), dtype=tf.int32, name=None))>,\n <PrefetchDataset element_spec=(TensorSpec(shape=(None, 2), dtype=tf.string, name=None), TensorSpec(shape=(None,), dtype=tf.int32, name=None))>)"
     },
     "execution_count": 3,
     "metadata": {},
     "output_type": "execute_result"
    }
   ],
   "source": [
    "def gen(name='train'):\n",
    "    for newsID, label in raw_ds[name]:\n",
    "        titles = ' '.join([raw_ds['news'][i][0] for i in newsID])\n",
    "        contents = ' '.join([raw_ds['news'][i][1] for i in newsID])\n",
    "        yield (titles, contents), label\n",
    "\n",
    "train_ds = tf.data.Dataset.from_generator(\n",
    "    gen, output_signature=(\n",
    "        tf.TensorSpec(shape=(2,), dtype=tf.string),\n",
    "        tf.TensorSpec(shape=(), dtype=tf.int32)\n",
    "    )\n",
    ").shuffle(BUFFER_SIZE).batch(BATCH_SIZE).prefetch(AUTOTUNE)\n",
    "valid_ds = tf.data.Dataset.from_generator(\n",
    "    lambda: gen('valid'), output_signature=(\n",
    "        tf.TensorSpec(shape=(2,), dtype=tf.string),\n",
    "        tf.TensorSpec(shape=(), dtype=tf.int32)\n",
    "    )\n",
    ").shuffle(BUFFER_SIZE).batch(BATCH_SIZE).prefetch(AUTOTUNE)\n",
    "train_ds, valid_ds"
   ]
  },
  {
   "cell_type": "code",
   "execution_count": 4,
   "metadata": {},
   "outputs": [
    {
     "data": {
      "text/plain": "(224, 25)"
     },
     "execution_count": 4,
     "metadata": {},
     "output_type": "execute_result"
    }
   ],
   "source": [
    "num_train = train_ds.reduce(0, lambda x, _: x + 1).numpy()\n",
    "num_valid = valid_ds.reduce(0, lambda x, _: x + 1).numpy()\n",
    "num_train, num_valid"
   ]
  },
  {
   "cell_type": "code",
   "execution_count": 30,
   "metadata": {},
   "outputs": [
    {
     "name": "stdout",
     "output_type": "stream",
     "text": [
      "(32, 2)\n"
     ]
    },
    {
     "data": {
      "text/plain": [
       "<tf.Tensor: shape=(32,), dtype=int32, numpy=\n",
       "array([1, 0, 1, 0, 1, 1, 0, 1, 0, 0, 0, 1, 1, 1, 1, 0, 1, 0, 1, 1, 1, 1,\n",
       "       1, 1, 0, 0, 1, 0, 1, 1, 1, 1])>"
      ]
     },
     "execution_count": 30,
     "metadata": {},
     "output_type": "execute_result"
    }
   ],
   "source": [
    "print(list(train_ds.take(1))[0][0].numpy().shape)\n",
    "list(train_ds.take(1))[0][1]"
   ]
  },
  {
   "cell_type": "code",
   "execution_count": 5,
   "metadata": {},
   "outputs": [
    {
     "name": "stdout",
     "output_type": "stream",
     "text": [
      "BERT model selected           : https://tfhub.dev/tensorflow/small_bert/bert_en_uncased_L-2_H-128_A-2/1\n",
      "Preprocess model auto-selected: https://tfhub.dev/tensorflow/bert_en_uncased_preprocess/3\n"
     ]
    }
   ],
   "source": [
    "from model import bert\n",
    "\n",
    "tfhub_handle_encoder, tfhub_handle_preprocess = bert.load_handle()"
   ]
  },
  {
   "cell_type": "code",
   "execution_count": null,
   "metadata": {
    "pycharm": {
     "is_executing": true
    }
   },
   "outputs": [],
   "source": [
    "bert_preprocess_model = hub.KerasLayer(tfhub_handle_preprocess)\n",
    "bert_encoder = hub.KerasLayer(tfhub_handle_encoder)"
   ]
  },
  {
   "cell_type": "code",
   "execution_count": 9,
   "metadata": {},
   "outputs": [
    {
     "name": "stdout",
     "output_type": "stream",
     "text": [
      "preprocess:\n",
      "\tKeys       : ['input_word_ids', 'input_mask', 'input_type_ids']\n",
      "\tShape      : (2, 128)\n",
      "\tWord Ids   : [ 101 5661 1921 1092 2339 3121 1169  102    0    0    0    0]\n",
      "\tInput Mask : [1 1 1 1 1 1 1 1 0 0 0 0]\n",
      "\tType Ids   : [0 0 0 0 0 0 0 0 0 0 0 0]\n",
      "encoder:\n",
      "\tLoaded BERT: https://tfhub.dev/tensorflow/bert_zh_L-12_H-768_A-12/4\n",
      "\tPooled Outputs Shape:(2, 768)\n",
      "\tPooled Outputs Values:[ 0.9991402   0.99678487  0.99997956  0.8220263   0.8629581  -0.18127698\n",
      "  0.2989392  -0.75357944  0.9343412  -0.9979432   0.9999949   0.9999995 ]\n",
      "\tSequence Outputs Shape:(2, 128, 768)\n",
      "\tSequence Outputs Values:[[-0.20063043  0.42701337  0.11472004 ...  0.14706698 -0.09249002\n",
      "   0.01925648]\n",
      " [ 0.40039682  0.5484915   0.30547076 ... -0.8168349  -0.5737139\n",
      "  -0.22514743]\n",
      " [ 1.6686411   0.33606082 -0.9654334  ... -0.678037    0.22344735\n",
      "  -0.08616148]\n",
      " ...\n",
      " [-0.54805696  0.54071593  0.09424038 ...  0.19394213 -0.72702795\n",
      "  -0.3126273 ]\n",
      " [-0.610137    0.4420386  -0.16109425 ...  0.21111499 -0.7106893\n",
      "  -0.23948924]\n",
      " [-0.7459719   0.45357245 -0.10539833 ...  0.14598978 -0.79602575\n",
      "  -0.29144728]]\n"
     ]
    }
   ],
   "source": [
    "text_test = ['航天军工改制', '复旦大小']\n",
    "text_preprocessed = bert_preprocess_model(text_test)\n",
    "print('preprocess:')\n",
    "print(f'\\tKeys       : {list(text_preprocessed.keys())}')\n",
    "print(f'\\tShape      : {text_preprocessed[\"input_word_ids\"].shape}')\n",
    "print(f'\\tWord Ids   : {text_preprocessed[\"input_word_ids\"][0, :12]}')\n",
    "print(f'\\tInput Mask : {text_preprocessed[\"input_mask\"][0, :12]}')\n",
    "print(f'\\tType Ids   : {text_preprocessed[\"input_type_ids\"][0, :12]}')\n",
    "\n",
    "bert_results = bert_encoder(text_preprocessed)\n",
    "print('encoder:')\n",
    "print(f'\\tLoaded BERT: {tfhub_handle_encoder}')\n",
    "print(f'\\tPooled Outputs Shape:{bert_results[\"pooled_output\"].shape}')\n",
    "print(f'\\tPooled Outputs Values:{bert_results[\"pooled_output\"][0, :12]}')\n",
    "print(f'\\tSequence Outputs Shape:{bert_results[\"sequence_output\"].shape}')\n",
    "print(f'\\tSequence Outputs Values:{bert_results[\"sequence_output\"][0, :12]}')"
   ]
  },
  {
   "cell_type": "code",
   "execution_count": 6,
   "metadata": {},
   "outputs": [],
   "source": [
    "loss = tf.keras.losses.BinaryCrossentropy(from_logits=False)\n",
    "metrics = tf.metrics.BinaryAccuracy()\n",
    "epochs = 5\n",
    "num_train_steps = num_train * epochs\n",
    "num_warmup_steps = int(0.1 * num_train_steps)\n",
    "init_lr = 2.5e-5\n",
    "optimizer = optimization.create_optimizer(init_lr=init_lr,\n",
    "                                          num_train_steps=num_train_steps,\n",
    "                                          num_warmup_steps=num_warmup_steps,\n",
    "                                          optimizer_type='adamw')\n",
    "title_units = 16\n",
    "content_units = 64"
   ]
  },
  {
   "cell_type": "code",
   "execution_count": 9,
   "metadata": {
    "pycharm": {
     "is_executing": true
    }
   },
   "outputs": [],
   "source": [
    "# bert_model = bert.BertModel(tfhub_handle_preprocess, tfhub_handle_encoder, title_units, content_units)\n",
    "bert_model = bert.build_classifier_model(tfhub_handle_preprocess, tfhub_handle_encoder, title_units, content_units, fine_tune=False)"
   ]
  },
  {
   "cell_type": "code",
   "execution_count": 11,
   "metadata": {},
   "outputs": [
    {
     "data": {
      "text/plain": [
       "<tf.Tensor: shape=(1, 1), dtype=float32, numpy=array([[0.18972214]], dtype=float32)>"
      ]
     },
     "execution_count": 11,
     "metadata": {},
     "output_type": "execute_result"
    }
   ],
   "source": [
    "bert_model(('航天科技集团深化军工改制', '据中国航天报报道中国航天科技集团集团公司董事长党组书记雷凡培日前在集团总部述职会上透露当前集团公司正在按中央要求深化国有企业改革'))"
   ]
  },
  {
   "cell_type": "code",
   "execution_count": 38,
   "metadata": {},
   "outputs": [
    {
     "data": {
      "image/png": "[encoded data removed]",
      "text/plain": [
       "<IPython.core.display.Image object>"
      ]
     },
     "execution_count": 38,
     "metadata": {},
     "output_type": "execute_result"
    }
   ],
   "source": [
    "from keras.utils import plot_model\n",
    "\n",
    "os.environ[\"PATH\"] += os.pathsep + 'D:/Graphviz/2.38/bin/'\n",
    "plot_model(bert_model, to_file='model/structure.png', dpi=96)"
   ]
  },
  {
   "cell_type": "code",
   "execution_count": null,
   "metadata": {
    "pycharm": {
     "is_executing": true
    }
   },
   "outputs": [],
   "source": [
    "def build_classifier_model(title_units, content_units, fine_tune=True):\n",
    "    text_input = tf.keras.layers.Input(shape=(2,), dtype=tf.string, name='text')\n",
    "    title = text_input[:, 0]\n",
    "    content = text_input[:, 1]\n",
    "    preprocessing_layer = hub.KerasLayer(tfhub_handle_preprocess, name='preprocessing')\n",
    "    # encoder_inputs = preprocessing_layer(text_input)\n",
    "    encoder_inputs_title = preprocessing_layer(title)\n",
    "    encoder_inputs_content = preprocessing_layer(content)\n",
    "    encoder = hub.KerasLayer(tfhub_handle_encoder, trainable=not fine_tune, name='BERT_encoder')\n",
    "    # outputs = encoder(encoder_inputs)\n",
    "    outputs_title = encoder(encoder_inputs_title)\n",
    "    outputs_content = encoder(encoder_inputs_content)\n",
    "    # net = outputs['pooled_output']\n",
    "    net_title = outputs_title['pooled_output']\n",
    "    net_content = outputs_content['pooled_output']\n",
    "    # net = tf.keras.layers.Dropout(0.1)(net)\n",
    "    net_title = tf.keras.layers.Dense(title_units, activation='relu', name='classifierT')(net_title)\n",
    "    net_content = tf.keras.layers.Dense(content_units, activation='relu', name='classifierC')(net_content)\n",
    "    # net = tf.keras.layers.Dense(1, activation=None, name='classifier')(net)\n",
    "    net = tf.keras.layers.concatenate([net_title, net_content])\n",
    "    net = tf.keras.layers.Dense(1, activation=None, name='classifier')(net)\n",
    "    return tf.keras.Model(text_input, net)\n",
    "bert_model = build_classifier_model(title_units, content_units, False)"
   ]
  },
  {
   "cell_type": "code",
   "execution_count": 8,
   "metadata": {},
   "outputs": [
    {
     "name": "stdout",
     "output_type": "stream",
     "text": [
      "Training model with https://tfhub.dev/tensorflow/bert_zh_L-12_H-768_A-12/4\n",
      "Epoch 1/5\n",
      "224/224 [==============================] - 295s 1s/step - loss: 1.7067 - binary_accuracy: 0.5360 - val_loss: 1.0398 - val_binary_accuracy: 0.5879\n",
      "Epoch 2/5\n",
      "224/224 [==============================] - 282s 1s/step - loss: 0.9419 - binary_accuracy: 0.5747 - val_loss: 0.8896 - val_binary_accuracy: 0.5892\n",
      "Epoch 3/5\n",
      "224/224 [==============================] - 280s 1s/step - loss: 0.8215 - binary_accuracy: 0.5862 - val_loss: 0.8391 - val_binary_accuracy: 0.5678\n",
      "Epoch 4/5\n",
      "224/224 [==============================] - 278s 1s/step - loss: 0.7828 - binary_accuracy: 0.5928 - val_loss: 0.8177 - val_binary_accuracy: 0.5804\n",
      "Epoch 5/5\n",
      "224/224 [==============================] - 285s 1s/step - loss: 0.7694 - binary_accuracy: 0.5977 - val_loss: 0.8194 - val_binary_accuracy: 0.5917\n"
     ]
    }
   ],
   "source": [
    "bert_model.compile(optimizer=optimizer, loss=loss, metrics=metrics)\n",
    "print(f'Training model with {tfhub_handle_encoder}')\n",
    "history = bert_model.fit(train_ds, validation_data=valid_ds, epochs=epochs)"
   ]
  },
  {
   "cell_type": "code",
   "execution_count": 9,
   "metadata": {},
   "outputs": [
    {
     "name": "stdout",
     "output_type": "stream",
     "text": [
      "dict_keys(['loss', 'binary_accuracy', 'val_loss', 'val_binary_accuracy'])\n"
     ]
    },
    {
     "data": {
      "text/plain": [
       "<matplotlib.legend.Legend at 0x22231b01370>"
      ]
     },
     "execution_count": 9,
     "metadata": {},
     "output_type": "execute_result"
    },
    {
     "data": {
      "image/png": "[encoded data removed]",
      "text/plain": [
       "<Figure size 720x432 with 2 Axes>"
      ]
     },
     "metadata": {
      "needs_background": "light"
     },
     "output_type": "display_data"
    }
   ],
   "source": [
    "history_dict = history.history\n",
    "print(history_dict.keys())\n",
    "\n",
    "acc = history_dict['binary_accuracy']\n",
    "val_acc = history_dict['val_binary_accuracy']\n",
    "loss = history_dict['loss']\n",
    "val_loss = history_dict['val_loss']\n",
    "\n",
    "epochs = range(1, len(acc) + 1)\n",
    "fig = plt.figure(figsize=(10, 6))\n",
    "fig.tight_layout()\n",
    "\n",
    "plt.subplot(2, 1, 1)\n",
    "# r is for \"solid red line\"\n",
    "plt.plot(epochs, loss, 'r', label='Training loss')\n",
    "# b is for \"solid blue line\"\n",
    "plt.plot(epochs, val_loss, 'b', label='Validation loss')\n",
    "plt.title('Training and validation loss')\n",
    "# plt.xlabel('Epochs')\n",
    "plt.ylabel('Loss')\n",
    "plt.legend()\n",
    "\n",
    "plt.subplot(2, 1, 2)\n",
    "plt.plot(epochs, acc, 'r', label='Training acc')\n",
    "plt.plot(epochs, val_acc, 'b', label='Validation acc')\n",
    "plt.title('Training and validation accuracy')\n",
    "plt.xlabel('Epochs')\n",
    "plt.ylabel('Accuracy')\n",
    "plt.legend(loc='lower right')"
   ]
  },
  {
   "cell_type": "code",
   "execution_count": null,
   "metadata": {},
   "outputs": [],
   "source": []
  }
 ],
 "metadata": {
  "kernelspec": {
   "display_name": "Python 3 (ipykernel)",
   "language": "python",
   "name": "python3"
  },
  "language_info": {
   "codemirror_mode": {
    "name": "ipython",
    "version": 3
   },
   "file_extension": ".py",
   "mimetype": "text/x-python",
   "name": "python",
   "nbconvert_exporter": "python",
   "pygments_lexer": "ipython3",
   "version": "3.8.13"
  }
 },
 "nbformat": 4,
 "nbformat_minor": 1
}
