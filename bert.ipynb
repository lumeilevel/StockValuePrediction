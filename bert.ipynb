{
 "cells": [
  {
   "cell_type": "code",
   "source": [
    "! pip install -q tensorflow_text"
   ],
   "metadata": {
    "id": "hvRLWUWRTIFe",
    "colab": {
     "base_uri": "https://localhost:8080/"
    },
    "outputId": "57df78e2-d26c-479c-e007-e3323ce530b8"
   },
   "execution_count": 1,
   "outputs": [
    {
     "output_type": "stream",
     "name": "stdout",
     "text": [
      "\u001B[?25l     \u001B[90m━━━━━━━━━━━━━━━━━━━━━━━━━━━━━━━━━━━━━━━━\u001B[0m \u001B[32m0.0/6.0 MB\u001B[0m \u001B[31m?\u001B[0m eta \u001B[36m-:--:--\u001B[0m\r\u001B[2K     \u001B[91m━━━━━━━━━━━━━━━━━━━━━━━━━━━━━━━━━\u001B[0m\u001B[91m╸\u001B[0m\u001B[90m━━━━━━\u001B[0m \u001B[32m5.0/6.0 MB\u001B[0m \u001B[31m151.3 MB/s\u001B[0m eta \u001B[36m0:00:01\u001B[0m\r\u001B[2K     \u001B[91m━━━━━━━━━━━━━━━━━━━━━━━━━━━━━━━━━━━━━━━\u001B[0m\u001B[91m╸\u001B[0m \u001B[32m6.0/6.0 MB\u001B[0m \u001B[31m152.3 MB/s\u001B[0m eta \u001B[36m0:00:01\u001B[0m\r\u001B[2K     \u001B[90m━━━━━━━━━━━━━━━━━━━━━━━━━━━━━━━━━━━━━━━━\u001B[0m \u001B[32m6.0/6.0 MB\u001B[0m \u001B[31m79.7 MB/s\u001B[0m eta \u001B[36m0:00:00\u001B[0m\n",
      "\u001B[?25h"
     ]
    }
   ]
  },
  {
   "cell_type": "code",
   "source": [
    "! pip install -q tf-models-official"
   ],
   "metadata": {
    "id": "-yhmrUpNTH3P",
    "colab": {
     "base_uri": "https://localhost:8080/"
    },
    "outputId": "b6a7d208-56b7-49a7-c231-0fdf978c7ae9"
   },
   "execution_count": 2,
   "outputs": [
    {
     "output_type": "stream",
     "name": "stdout",
     "text": [
      "\u001B[2K     \u001B[90m━━━━━━━━━━━━━━━━━━━━━━━━━━━━━━━━━━━━━━━━\u001B[0m \u001B[32m2.6/2.6 MB\u001B[0m \u001B[31m79.9 MB/s\u001B[0m eta \u001B[36m0:00:00\u001B[0m\n",
      "\u001B[2K     \u001B[90m━━━━━━━━━━━━━━━━━━━━━━━━━━━━━━━━━━━━━━━━\u001B[0m \u001B[32m43.6/43.6 kB\u001B[0m \u001B[31m5.8 MB/s\u001B[0m eta \u001B[36m0:00:00\u001B[0m\n",
      "\u001B[?25h  Preparing metadata (setup.py) ... \u001B[?25l\u001B[?25hdone\n",
      "\u001B[2K     \u001B[90m━━━━━━━━━━━━━━━━━━━━━━━━━━━━━━━━━━━━━━\u001B[0m \u001B[32m118.9/118.9 kB\u001B[0m \u001B[31m13.1 MB/s\u001B[0m eta \u001B[36m0:00:00\u001B[0m\n",
      "\u001B[2K     \u001B[90m━━━━━━━━━━━━━━━━━━━━━━━━━━━━━━━━━━━━━━\u001B[0m \u001B[32m175.1/175.1 kB\u001B[0m \u001B[31m19.7 MB/s\u001B[0m eta \u001B[36m0:00:00\u001B[0m\n",
      "\u001B[?25h  Installing build dependencies ... \u001B[?25l\u001B[?25hdone\n",
      "  Getting requirements to build wheel ... \u001B[?25l\u001B[?25hdone\n",
      "  Preparing metadata (pyproject.toml) ... \u001B[?25l\u001B[?25hdone\n",
      "\u001B[2K     \u001B[90m━━━━━━━━━━━━━━━━━━━━━━━━━━━━━━━━━━━━━━\u001B[0m \u001B[32m240.6/240.6 kB\u001B[0m \u001B[31m22.6 MB/s\u001B[0m eta \u001B[36m0:00:00\u001B[0m\n",
      "\u001B[2K     \u001B[90m━━━━━━━━━━━━━━━━━━━━━━━━━━━━━━━━━━━━━━\u001B[0m \u001B[32m591.0/591.0 kB\u001B[0m \u001B[31m46.0 MB/s\u001B[0m eta \u001B[36m0:00:00\u001B[0m\n",
      "\u001B[2K     \u001B[90m━━━━━━━━━━━━━━━━━━━━━━━━━━━━━━━━━━━━━━━━\u001B[0m \u001B[32m1.3/1.3 MB\u001B[0m \u001B[31m61.8 MB/s\u001B[0m eta \u001B[36m0:00:00\u001B[0m\n",
      "\u001B[2K     \u001B[90m━━━━━━━━━━━━━━━━━━━━━━━━━━━━━━━━━━━━━━━━\u001B[0m \u001B[32m17.1/17.1 MB\u001B[0m \u001B[31m91.1 MB/s\u001B[0m eta \u001B[36m0:00:00\u001B[0m\n",
      "\u001B[?25h  Building wheel for pyyaml (pyproject.toml) ... \u001B[?25l\u001B[?25hdone\n",
      "  Building wheel for seqeval (setup.py) ... \u001B[?25l\u001B[?25hdone\n"
     ]
    }
   ]
  },
  {
   "cell_type": "code",
   "execution_count": 3,
   "metadata": {
    "colab": {
     "base_uri": "https://localhost:8080/"
    },
    "id": "fP7AndNMSpVf",
    "outputId": "0e6f7844-c353-49c5-94d9-82ac9dc85541"
   },
   "outputs": [
    {
     "output_type": "stream",
     "name": "stderr",
     "text": [
      "/usr/local/lib/python3.10/dist-packages/tensorflow_addons/utils/tfa_eol_msg.py:23: UserWarning: \n",
      "\n",
      "TensorFlow Addons (TFA) has ended development and introduction of new features.\n",
      "TFA has entered a minimal maintenance and release mode until a planned end of life in May 2024.\n",
      "Please modify downstream libraries to take dependencies from other repositories in our TensorFlow community (e.g. Keras, Keras-CV, and Keras-NLP). \n",
      "\n",
      "For more information see: https://github.com/tensorflow/addons/issues/2807 \n",
      "\n",
      "  warnings.warn(\n"
     ]
    },
    {
     "output_type": "stream",
     "name": "stdout",
     "text": [
      "2.12.0\n"
     ]
    },
    {
     "output_type": "execute_result",
     "data": {
      "text/plain": [
       "[PhysicalDevice(name='/physical_device:GPU:0', device_type='GPU')]"
      ]
     },
     "metadata": {},
     "execution_count": 3
    }
   ],
   "source": [
    "import tensorflow as tf\n",
    "import tensorflow_hub as hub\n",
    "import tensorflow_text as text          # needed for loading bert from hub\n",
    "from official.nlp import optimization   # to create AdamW optimizer\n",
    "\n",
    "tf.get_logger().setLevel('ERROR')\n",
    "print(tf.__version__)\n",
    "tf.config.list_physical_devices('GPU')"
   ]
  },
  {
   "cell_type": "code",
   "execution_count": 4,
   "metadata": {
    "colab": {
     "base_uri": "https://localhost:8080/"
    },
    "id": "dTzsgBTmSpVg",
    "outputId": "4df94002-77f8-4165-a303-4652c30a9f56"
   },
   "outputs": [
    {
     "output_type": "stream",
     "name": "stdout",
     "text": [
      "Total number of news: 30339\n",
      "Maximum number of news for each group in training set: 64\n",
      "Minimum number of news for each group in training set: 3\n",
      "Maximum number of news for each group in test set: 26\n",
      "Minimum number of news for each group in test set: 3\n",
      "Maximum number of times a news appears in training set: 22\n",
      "Minimum number of times a news appears in training set: 0\n",
      "Maximum number of times a news appears in test set: 11\n",
      "Minimum number of times a news appears in test set: 0\n"
     ]
    }
   ],
   "source": [
    "from utils.preprocessing import preprocess\n",
    "\n",
    "AUTOTUNE = tf.data.AUTOTUNE\n",
    "BUFFER_SIZE = 256\n",
    "BATCH_SIZE = 32\n",
    "raw_ds = preprocess('bert')"
   ]
  },
  {
   "cell_type": "code",
   "execution_count": 5,
   "metadata": {
    "colab": {
     "base_uri": "https://localhost:8080/"
    },
    "id": "-SgTszlOSpVg",
    "outputId": "922a7bc3-5af4-4a6e-c795-3888a51839f2"
   },
   "outputs": [
    {
     "output_type": "execute_result",
     "data": {
      "text/plain": [
       "(<_PrefetchDataset element_spec=(TensorSpec(shape=(None, 2), dtype=tf.string, name=None), TensorSpec(shape=(None,), dtype=tf.int32, name=None))>,\n",
       " <_PrefetchDataset element_spec=(TensorSpec(shape=(None, 2), dtype=tf.string, name=None), TensorSpec(shape=(None,), dtype=tf.int32, name=None))>,\n",
       " <_PrefetchDataset element_spec=TensorSpec(shape=(None, 2), dtype=tf.string, name=None)>)"
      ]
     },
     "metadata": {},
     "execution_count": 5
    }
   ],
   "source": [
    "def gen(name='train'):\n",
    "    for newsID, label in raw_ds[name]:\n",
    "        titles = ' '.join([raw_ds['news'][i][0] for i in newsID])\n",
    "        contents = ' '.join([raw_ds['news'][i][1] for i in newsID])\n",
    "        yield (titles, contents), label\n",
    "\n",
    "def gen_test():\n",
    "    for newsID in raw_ds['test']:\n",
    "        titles = ' '.join([raw_ds['news'][i][0] for i in newsID])\n",
    "        contents = ' '.join([raw_ds['news'][i][1] for i in newsID])\n",
    "        yield titles, contents\n",
    "\n",
    "train_ds = tf.data.Dataset.from_generator(\n",
    "    gen, output_signature=(\n",
    "        tf.TensorSpec(shape=(2,), dtype=tf.string),\n",
    "        tf.TensorSpec(shape=(), dtype=tf.int32)\n",
    "    )\n",
    ").shuffle(BUFFER_SIZE).batch(BATCH_SIZE).prefetch(AUTOTUNE)\n",
    "valid_ds = tf.data.Dataset.from_generator(\n",
    "    lambda: gen('valid'), output_signature=(\n",
    "        tf.TensorSpec(shape=(2,), dtype=tf.string),\n",
    "        tf.TensorSpec(shape=(), dtype=tf.int32)\n",
    "    )\n",
    ").shuffle(BUFFER_SIZE).batch(BATCH_SIZE).prefetch(AUTOTUNE)\n",
    "test_ds = tf.data.Dataset.from_generator(\n",
    "    gen_test, output_signature=(\n",
    "        tf.TensorSpec(shape=(2,), dtype=tf.string)\n",
    "    )\n",
    ").batch(BATCH_SIZE).prefetch(AUTOTUNE)\n",
    "train_ds, valid_ds, test_ds"
   ]
  },
  {
   "cell_type": "code",
   "execution_count": 6,
   "metadata": {
    "colab": {
     "base_uri": "https://localhost:8080/"
    },
    "id": "fiMVJ9LNSpVh",
    "outputId": "a433188f-959e-4b14-fa97-72fb8f4729b5"
   },
   "outputs": [
    {
     "output_type": "execute_result",
     "data": {
      "text/plain": [
       "(224, 25)"
      ]
     },
     "metadata": {},
     "execution_count": 6
    }
   ],
   "source": [
    "num_train = train_ds.reduce(0, lambda x, _: x + 1).numpy()\n",
    "num_valid = valid_ds.reduce(0, lambda x, _: x + 1).numpy()\n",
    "num_train, num_valid"
   ]
  },
  {
   "cell_type": "code",
   "execution_count": 7,
   "metadata": {
    "colab": {
     "base_uri": "https://localhost:8080/"
    },
    "id": "i3NsLaO7SpVh",
    "outputId": "a183b70f-f401-4edc-8356-6ccc58c28eee"
   },
   "outputs": [
    {
     "output_type": "stream",
     "name": "stdout",
     "text": [
      "(32, 2)\n"
     ]
    },
    {
     "output_type": "execute_result",
     "data": {
      "text/plain": [
       "<tf.Tensor: shape=(32,), dtype=int32, numpy=\n",
       "array([1, 1, 1, 1, 0, 0, 1, 1, 1, 1, 1, 1, 0, 1, 1, 1, 1, 1, 0, 1, 1, 0,\n",
       "       1, 0, 0, 1, 1, 1, 0, 1, 1, 0], dtype=int32)>"
      ]
     },
     "metadata": {},
     "execution_count": 7
    }
   ],
   "source": [
    "print(list(train_ds.take(1))[0][0].numpy().shape)\n",
    "list(train_ds.take(1))[0][1]"
   ]
  },
  {
   "cell_type": "code",
   "execution_count": 10,
   "metadata": {
    "colab": {
     "base_uri": "https://localhost:8080/"
    },
    "id": "7yj-A8kCSpVh",
    "outputId": "63be96f2-49f8-4098-d1a3-3d51a536d643"
   },
   "outputs": [
    {
     "output_type": "stream",
     "name": "stdout",
     "text": [
      "BERT model selected           : https://tfhub.dev/tensorflow/bert_zh_L-12_H-768_A-12/4\n",
      "Preprocess model auto-selected: https://tfhub.dev/tensorflow/bert_zh_preprocess/3\n"
     ]
    }
   ],
   "source": [
    "from model import bert\n",
    "\n",
    "tfhub_handle_encoder, tfhub_handle_preprocess = bert.load_handle()"
   ]
  },
  {
   "cell_type": "code",
   "execution_count": null,
   "metadata": {
    "pycharm": {
     "is_executing": true
    },
    "id": "f96Uh-fDSpVi"
   },
   "outputs": [],
   "source": [
    "bert_preprocess_model = hub.KerasLayer(tfhub_handle_preprocess)\n",
    "bert_encoder = hub.KerasLayer(tfhub_handle_encoder)"
   ]
  },
  {
   "cell_type": "code",
   "execution_count": null,
   "metadata": {
    "colab": {
     "base_uri": "https://localhost:8080/"
    },
    "id": "m4SMzjU9SpVi",
    "outputId": "41303b64-f147-433d-bf90-8e31d59d9a75"
   },
   "outputs": [
    {
     "output_type": "stream",
     "name": "stdout",
     "text": [
      "preprocess:\n",
      "\tKeys       : ['input_word_ids', 'input_type_ids', 'input_mask']\n",
      "\tShape      : (2, 128)\n",
      "\tWord Ids   : [ 101 5661 1921 1092 2339 3121 1169  102    0    0    0    0]\n",
      "\tInput Mask : [1 1 1 1 1 1 1 1 0 0 0 0]\n",
      "\tType Ids   : [0 0 0 0 0 0 0 0 0 0 0 0]\n",
      "encoder:\n",
      "\tLoaded BERT: https://tfhub.dev/tensorflow/bert_zh_L-12_H-768_A-12/4\n",
      "\tPooled Outputs Shape:(2, 768)\n",
      "\tPooled Outputs Values:[ 0.9991402   0.9967849   0.99997956  0.8220248   0.86295706 -0.18127915\n",
      "  0.29894182 -0.7535787   0.9343412  -0.9979432   0.99999493  0.9999995 ]\n",
      "\tSequence Outputs Shape:(2, 128, 768)\n",
      "\tSequence Outputs Values:[[-0.20063053  0.42701313  0.11472083 ...  0.14706677 -0.09248966\n",
      "   0.01925603]\n",
      " [ 0.40039676  0.54849184  0.30547076 ... -0.81683505 -0.5737129\n",
      "  -0.2251461 ]\n",
      " [ 1.6686405   0.33606017 -0.96543264 ... -0.67803603  0.22344837\n",
      "  -0.08616167]\n",
      " ...\n",
      " [-0.5480576   0.5407157   0.09424008 ...  0.19394217 -0.7270278\n",
      "  -0.31262705]\n",
      " [-0.6101384   0.44203866 -0.16109388 ...  0.21111527 -0.7106892\n",
      "  -0.23948891]\n",
      " [-0.7459729   0.45357296 -0.10539898 ...  0.14598969 -0.7960255\n",
      "  -0.29144737]]\n"
     ]
    }
   ],
   "source": [
    "text_test = ['航天军工改制', '复旦大小']\n",
    "text_preprocessed = bert_preprocess_model(text_test)\n",
    "print('preprocess:')\n",
    "print(f'\\tKeys       : {list(text_preprocessed.keys())}')\n",
    "print(f'\\tShape      : {text_preprocessed[\"input_word_ids\"].shape}')\n",
    "print(f'\\tWord Ids   : {text_preprocessed[\"input_word_ids\"][0, :12]}')\n",
    "print(f'\\tInput Mask : {text_preprocessed[\"input_mask\"][0, :12]}')\n",
    "print(f'\\tType Ids   : {text_preprocessed[\"input_type_ids\"][0, :12]}')\n",
    "\n",
    "bert_results = bert_encoder(text_preprocessed)\n",
    "print('encoder:')\n",
    "print(f'\\tLoaded BERT: {tfhub_handle_encoder}')\n",
    "print(f'\\tPooled Outputs Shape:{bert_results[\"pooled_output\"].shape}')\n",
    "print(f'\\tPooled Outputs Values:{bert_results[\"pooled_output\"][0, :12]}')\n",
    "print(f'\\tSequence Outputs Shape:{bert_results[\"sequence_output\"].shape}')\n",
    "print(f'\\tSequence Outputs Values:{bert_results[\"sequence_output\"][0, :12]}')"
   ]
  },
  {
   "cell_type": "code",
   "execution_count": 8,
   "metadata": {
    "id": "7F-2K-QhSpVi"
   },
   "outputs": [],
   "source": [
    "loss = tf.keras.losses.BinaryCrossentropy(from_logits=False)\n",
    "metrics = tf.metrics.BinaryAccuracy()\n",
    "epochs = 20\n",
    "num_train_steps = num_train * epochs\n",
    "num_warmup_steps = int(0.1 * num_train_steps)\n",
    "init_lr = 1e-4\n",
    "optimizer = optimization.create_optimizer(init_lr=init_lr,\n",
    "                                          num_train_steps=num_train_steps,\n",
    "                                          num_warmup_steps=num_warmup_steps,\n",
    "                                          optimizer_type='adamw')\n",
    "callbacks = tf.keras.callbacks.TensorBoard(log_dir='logs')\n",
    "title_units = 32\n",
    "content_units = 128"
   ]
  },
  {
   "cell_type": "code",
   "execution_count": 11,
   "metadata": {
    "id": "ajise3G0SpVi"
   },
   "outputs": [],
   "source": [
    "# bert_model = bert.BertModel(tfhub_handle_preprocess, tfhub_handle_encoder, title_units, content_units)\n",
    "bert_model = bert.build_classifier_model(tfhub_handle_preprocess, tfhub_handle_encoder, title_units, content_units, fine_tune=False)"
   ]
  },
  {
   "cell_type": "code",
   "execution_count": 12,
   "metadata": {
    "id": "eFAMuDukSpVj"
   },
   "outputs": [],
   "source": [
    "from utils.visualization import plot_structure, plot_history\n",
    "\n",
    "plot_structure(bert_model, 'bert_classifier.png')"
   ]
  },
  {
   "cell_type": "code",
   "source": [
    "bert_model.compile(optimizer=optimizer, loss=loss, metrics=metrics)\n",
    "print(f'Training model with {tfhub_handle_encoder}')\n",
    "history = bert_model.fit(train_ds, validation_data=valid_ds, epochs=epochs, callbacks=[callbacks])"
   ],
   "metadata": {
    "colab": {
     "base_uri": "https://localhost:8080/"
    },
    "id": "rKKUY5FAbI9c",
    "outputId": "9eb72c69-ccc8-430f-bf87-77c302d7919a"
   },
   "execution_count": 13,
   "outputs": [
    {
     "output_type": "stream",
     "name": "stdout",
     "text": [
      "Training model with https://tfhub.dev/tensorflow/bert_zh_L-12_H-768_A-12/4\n",
      "Epoch 1/20\n",
      "224/224 [==============================] - 498s 2s/step - loss: 0.6413 - binary_accuracy: 0.6253 - val_loss: 0.6215 - val_binary_accuracy: 0.6508\n",
      "Epoch 2/20\n",
      "224/224 [==============================] - 472s 2s/step - loss: 0.6232 - binary_accuracy: 0.6401 - val_loss: 0.7456 - val_binary_accuracy: 0.5553\n",
      "Epoch 3/20\n",
      "224/224 [==============================] - 487s 2s/step - loss: 0.6384 - binary_accuracy: 0.6324 - val_loss: 0.6369 - val_binary_accuracy: 0.6583\n",
      "Epoch 4/20\n",
      "224/224 [==============================] - 470s 2s/step - loss: 0.6146 - binary_accuracy: 0.6558 - val_loss: 0.6978 - val_binary_accuracy: 0.6508\n",
      "Epoch 5/20\n",
      "224/224 [==============================] - 469s 2s/step - loss: 0.6042 - binary_accuracy: 0.6655 - val_loss: 0.6341 - val_binary_accuracy: 0.6445\n",
      "Epoch 6/20\n",
      "224/224 [==============================] - 467s 2s/step - loss: 0.5407 - binary_accuracy: 0.7251 - val_loss: 0.6706 - val_binary_accuracy: 0.6206\n",
      "Epoch 7/20\n",
      "224/224 [==============================] - 486s 2s/step - loss: 0.4279 - binary_accuracy: 0.8050 - val_loss: 0.8372 - val_binary_accuracy: 0.6721\n",
      "Epoch 8/20\n",
      "224/224 [==============================] - 469s 2s/step - loss: 0.3252 - binary_accuracy: 0.8684 - val_loss: 0.8692 - val_binary_accuracy: 0.6269\n",
      "Epoch 9/20\n",
      "224/224 [==============================] - 467s 2s/step - loss: 0.2438 - binary_accuracy: 0.9107 - val_loss: 0.9990 - val_binary_accuracy: 0.6294\n",
      "Epoch 10/20\n",
      "224/224 [==============================] - 486s 2s/step - loss: 0.1950 - binary_accuracy: 0.9314 - val_loss: 1.0874 - val_binary_accuracy: 0.6621\n",
      "Epoch 11/20\n",
      "224/224 [==============================] - 469s 2s/step - loss: 0.1615 - binary_accuracy: 0.9464 - val_loss: 1.3286 - val_binary_accuracy: 0.6621\n",
      "Epoch 12/20\n",
      "224/224 [==============================] - 468s 2s/step - loss: 0.1335 - binary_accuracy: 0.9586 - val_loss: 1.1898 - val_binary_accuracy: 0.6683\n",
      "Epoch 13/20\n",
      "224/224 [==============================] - 468s 2s/step - loss: 0.1132 - binary_accuracy: 0.9668 - val_loss: 1.2820 - val_binary_accuracy: 0.6495\n",
      "Epoch 14/20\n",
      "224/224 [==============================] - 469s 2s/step - loss: 0.0986 - binary_accuracy: 0.9726 - val_loss: 1.5009 - val_binary_accuracy: 0.6734\n",
      "Epoch 15/20\n",
      "224/224 [==============================] - 486s 2s/step - loss: 0.0860 - binary_accuracy: 0.9769 - val_loss: 1.5629 - val_binary_accuracy: 0.6595\n",
      "Epoch 16/20\n",
      "224/224 [==============================] - 468s 2s/step - loss: 0.0662 - binary_accuracy: 0.9828 - val_loss: 1.6349 - val_binary_accuracy: 0.6671\n",
      "Epoch 17/20\n",
      "224/224 [==============================] - 468s 2s/step - loss: 0.0551 - binary_accuracy: 0.9860 - val_loss: 1.6540 - val_binary_accuracy: 0.6683\n",
      "Epoch 18/20\n",
      "224/224 [==============================] - 468s 2s/step - loss: 0.0447 - binary_accuracy: 0.9871 - val_loss: 1.7113 - val_binary_accuracy: 0.6784\n",
      "Epoch 19/20\n",
      "224/224 [==============================] - 468s 2s/step - loss: 0.0353 - binary_accuracy: 0.9899 - val_loss: 1.7919 - val_binary_accuracy: 0.6771\n",
      "Epoch 20/20\n",
      "224/224 [==============================] - 487s 2s/step - loss: 0.0314 - binary_accuracy: 0.9906 - val_loss: 1.8157 - val_binary_accuracy: 0.6784\n"
     ]
    }
   ]
  },
  {
   "cell_type": "code",
   "source": [
    "plot_history(history.history)"
   ],
   "metadata": {
    "colab": {
     "base_uri": "https://localhost:8080/",
     "height": 503
    },
    "id": "fh7dz71abIy6",
    "outputId": "75e0d1c9-033b-42ed-9e97-5e4598425d3e"
   },
   "execution_count": 14,
   "outputs": [
    {
     "output_type": "stream",
     "name": "stdout",
     "text": [
      "dict_keys(['loss', 'binary_accuracy', 'val_loss', 'val_binary_accuracy'])\n"
     ]
    },
    {
     "output_type": "display_data",
     "data": {
      "text/plain": [
       "<Figure size 1200x600 with 2 Axes>"
      ],
      "image/png": "[encoded data removed]"
     },
     "metadata": {}
    }
   ]
  },
  {
   "cell_type": "code",
   "execution_count": 15,
   "outputs": [
    {
     "output_type": "stream",
     "name": "stdout",
     "text": [
      "94/94 [==============================] - 85s 893ms/step\n"
     ]
    },
    {
     "output_type": "execute_result",
     "data": {
      "text/plain": [
       "array([[0.99783343],\n",
       "       [0.00129715],\n",
       "       [0.99556786],\n",
       "       ...,\n",
       "       [0.9906596 ],\n",
       "       [0.00128738],\n",
       "       [0.99870014]], dtype=float32)"
      ]
     },
     "metadata": {},
     "execution_count": 15
    }
   ],
   "source": [
    "from utils.prediction import predict\n",
    "\n",
    "predict(bert_model, test_ds, 'bert_prediction.txt')"
   ],
   "metadata": {
    "colab": {
     "base_uri": "https://localhost:8080/"
    },
    "id": "zqfBBwBMSpVk",
    "outputId": "98475cae-4c3d-43ea-97e7-d0547758e77e"
   }
  }
 ],
 "metadata": {
  "kernelspec": {
   "display_name": "Python 3 (ipykernel)",
   "language": "python",
   "name": "python3"
  },
  "language_info": {
   "codemirror_mode": {
    "name": "ipython",
    "version": 3
   },
   "file_extension": ".py",
   "mimetype": "text/x-python",
   "name": "python",
   "nbconvert_exporter": "python",
   "pygments_lexer": "ipython3",
   "version": "3.8.13"
  },
  "colab": {
   "provenance": []
  },
  "accelerator": "GPU",
  "gpuClass": "standard"
 },
 "nbformat": 4,
 "nbformat_minor": 0
}
