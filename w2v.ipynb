{
 "cells": [
  {
   "cell_type": "code",
   "execution_count": 1,
   "metadata": {
    "collapsed": true
   },
   "outputs": [
    {
     "name": "stdout",
     "output_type": "stream",
     "text": [
      "2.10.1\n"
     ]
    },
    {
     "data": {
      "text/plain": "[PhysicalDevice(name='/physical_device:GPU:0', device_type='GPU')]"
     },
     "execution_count": 1,
     "metadata": {},
     "output_type": "execute_result"
    }
   ],
   "source": [
    "%load_ext autoreload\n",
    "%autoreload 2\n",
    "\n",
    "import numpy as np\n",
    "import tensorflow as tf\n",
    "from tensorflow import keras\n",
    "\n",
    "tf.get_logger().setLevel('ERROR')\n",
    "print(tf.__version__)\n",
    "tf.config.list_physical_devices('GPU')"
   ]
  },
  {
   "cell_type": "code",
   "execution_count": 2,
   "outputs": [
    {
     "name": "stdout",
     "output_type": "stream",
     "text": [
      "Total number of news: 30339\n",
      "Maximum number of news for each group in training set: 64\n",
      "Minimum number of news for each group in training set: 3\n",
      "Maximum number of news for each group in test set: 26\n",
      "Minimum number of news for each group in test set: 3\n",
      "Maximum number of times a news appears in training set: 22\n",
      "Minimum number of times a news appears in training set: 0\n",
      "Maximum number of times a news appears in test set: 11\n",
      "Minimum number of times a news appears in test set: 0\n",
      "Loading Word2Vec model...\n"
     ]
    },
    {
     "name": "stderr",
     "output_type": "stream",
     "text": [
      "Building prefix dict from the default dictionary ...\n",
      "Loading model from cache C:\\Users\\Stanl\\AppData\\Local\\Temp\\jieba.cache\n"
     ]
    },
    {
     "name": "stdout",
     "output_type": "stream",
     "text": [
      "Word2vec model loaded.\n"
     ]
    },
    {
     "name": "stderr",
     "output_type": "stream",
     "text": [
      "Loading model cost 0.682 seconds.\n",
      "Prefix dict has been built successfully.\n"
     ]
    }
   ],
   "source": [
    "from utils.preprocessing import preprocess\n",
    "\n",
    "raw_ds = preprocess('word2vec')\n",
    "dim = raw_ds['model'].vector_size\n",
    "mat = raw_ds['mat']"
   ],
   "metadata": {
    "collapsed": false
   }
  },
  {
   "cell_type": "code",
   "execution_count": 3,
   "outputs": [
    {
     "data": {
      "text/plain": "((7158,), (796,))"
     },
     "execution_count": 3,
     "metadata": {},
     "output_type": "execute_result"
    }
   ],
   "source": [
    "raw_train = np.array(raw_ds['train'], dtype=list)\n",
    "raw_valid = np.array(raw_ds['valid'], dtype=list)\n",
    "raw_test = np.array(raw_ds['test'], dtype=list)\n",
    "train_label = raw_train[:, 1]\n",
    "valid_label = raw_valid[:, 1]\n",
    "train_label.shape, valid_label.shape"
   ],
   "metadata": {
    "collapsed": false
   }
  },
  {
   "cell_type": "code",
   "execution_count": 4,
   "outputs": [
    {
     "data": {
      "text/plain": "((7158, 64), (796, 64), (3000, 64))"
     },
     "execution_count": 4,
     "metadata": {},
     "output_type": "execute_result"
    }
   ],
   "source": [
    "titleK, contentK = 1, 4\n",
    "maxlen = 64\n",
    "train_pad = keras.preprocessing.sequence.pad_sequences(raw_train[:, 0], maxlen=maxlen, padding='post').astype('<U8')\n",
    "valid_pad = keras.preprocessing.sequence.pad_sequences(raw_valid[:, 0], maxlen=maxlen, padding='post').astype('<U8')\n",
    "test_pad = keras.preprocessing.sequence.pad_sequences(raw_ds['test'], maxlen=maxlen, padding='post').astype('<U8')\n",
    "train_pad.shape, valid_pad.shape, test_pad.shape"
   ],
   "metadata": {
    "collapsed": false
   }
  },
  {
   "cell_type": "code",
   "execution_count": 5,
   "outputs": [
    {
     "data": {
      "text/plain": "((7158, 100, 320), (796, 100, 320), (3000, 100, 320))"
     },
     "execution_count": 5,
     "metadata": {},
     "output_type": "execute_result"
    }
   ],
   "source": [
    "def reshapeData(pad, mat, dim, maxlen, K):\n",
    "    data = np.empty((pad.shape[0], dim, maxlen, K))\n",
    "    for i in range(pad.shape[0]):\n",
    "        for j in range(maxlen):\n",
    "            data[i, :, j] = mat[pad[i, j]].T\n",
    "    return data.reshape((pad.shape[0], dim, -1))\n",
    "\n",
    "train_data = reshapeData(train_pad, mat, dim, maxlen, titleK+contentK)\n",
    "valid_data = reshapeData(valid_pad, mat, dim, maxlen, titleK+contentK)\n",
    "test_data = reshapeData(test_pad, mat, dim, maxlen, titleK+contentK)\n",
    "train_data.shape, valid_data.shape, test_data.shape"
   ],
   "metadata": {
    "collapsed": false
   }
  },
  {
   "cell_type": "code",
   "execution_count": 6,
   "outputs": [],
   "source": [
    "train_data = tf.data.Dataset.from_tensor_slices(train_data.astype(np.float32))\n",
    "valid_data = tf.data.Dataset.from_tensor_slices(valid_data.astype(np.float32))\n",
    "test_data = tf.data.Dataset.from_tensor_slices(test_data.astype(np.float32))\n",
    "\n",
    "train_label = tf.data.Dataset.from_tensor_slices(train_label.astype(np.int32))\n",
    "valid_label = tf.data.Dataset.from_tensor_slices(valid_label.astype(np.int32))\n",
    "\n",
    "train_ds = tf.data.Dataset.zip((train_data, train_label))\n",
    "valid_ds = tf.data.Dataset.zip((valid_data, valid_label))"
   ],
   "metadata": {
    "collapsed": false
   }
  },
  {
   "cell_type": "code",
   "execution_count": 7,
   "outputs": [],
   "source": [
    "AUTOTUNE = tf.data.AUTOTUNE\n",
    "BUFFER_SIZE = 512\n",
    "BATCH_SIZE = 32\n",
    "\n",
    "train_ds = train_ds.shuffle(BUFFER_SIZE).batch(BATCH_SIZE).cache().prefetch(AUTOTUNE)\n",
    "valid_ds = valid_ds.batch(BATCH_SIZE).cache().prefetch(AUTOTUNE)\n",
    "test_ds = test_data.batch(BATCH_SIZE).cache().prefetch(AUTOTUNE)"
   ],
   "metadata": {
    "collapsed": false
   }
  },
  {
   "cell_type": "code",
   "execution_count": 8,
   "outputs": [
    {
     "name": "stdout",
     "output_type": "stream",
     "text": [
      "Model: \"sequential\"\n",
      "_________________________________________________________________\n",
      " Layer (type)                Output Shape              Param #   \n",
      "=================================================================\n",
      " bidirectional (Bidirectiona  (None, 100, 256)         459776    \n",
      " l)                                                              \n",
      "                                                                 \n",
      " bidirectional_1 (Bidirectio  (None, 128)              164352    \n",
      " nal)                                                            \n",
      "                                                                 \n",
      " batch_normalization (BatchN  (None, 128)              512       \n",
      " ormalization)                                                   \n",
      "                                                                 \n",
      " dense (Dense)               (None, 32)                4128      \n",
      "                                                                 \n",
      " batch_normalization_1 (Batc  (None, 32)               128       \n",
      " hNormalization)                                                 \n",
      "                                                                 \n",
      " dense_1 (Dense)             (None, 1)                 33        \n",
      "                                                                 \n",
      "=================================================================\n",
      "Total params: 628,929\n",
      "Trainable params: 628,609\n",
      "Non-trainable params: 320\n",
      "_________________________________________________________________\n",
      "None\n"
     ]
    }
   ],
   "source": [
    "from model import w2v\n",
    "\n",
    "loss = keras.losses.BinaryCrossentropy(from_logits=False)\n",
    "metrics = [keras.metrics.BinaryAccuracy(),\n",
    "           keras.metrics.Precision(name='precision'),\n",
    "           keras.metrics.Recall(name='recall'),\n",
    "           keras.metrics.AUC(name='auc')]\n",
    "optimizer = tf.keras.optimizers.Nadam(learning_rate=1e-4)\n",
    "callbacks = tf.keras.callbacks.TensorBoard(log_dir='logs')\n",
    "epochs = 5\n",
    "maxlenK = maxlen*(titleK+contentK)\n",
    "\n",
    "model = w2v.build_model((dim, maxlenK), optimizer, loss, metrics)"
   ],
   "metadata": {
    "collapsed": false
   }
  },
  {
   "cell_type": "code",
   "execution_count": 9,
   "outputs": [
    {
     "name": "stdout",
     "output_type": "stream",
     "text": [
      "Epoch 1/5\n",
      "224/224 [==============================] - 20s 42ms/step - loss: 0.7641 - binary_accuracy: 0.5293 - precision: 0.6675 - recall: 0.5155 - auc: 0.5604 - val_loss: 0.7200 - val_binary_accuracy: 0.6244 - val_precision: 0.6255 - val_recall: 0.9899 - val_auc: 0.6219\n",
      "Epoch 2/5\n",
      "224/224 [==============================] - 8s 34ms/step - loss: 0.6945 - binary_accuracy: 0.5993 - precision: 0.7088 - recall: 0.6262 - auc: 0.6345 - val_loss: 0.6893 - val_binary_accuracy: 0.6219 - val_precision: 0.6281 - val_recall: 0.9637 - val_auc: 0.6366\n",
      "Epoch 3/5\n",
      "224/224 [==============================] - 8s 34ms/step - loss: 0.6668 - binary_accuracy: 0.6298 - precision: 0.7112 - recall: 0.7021 - auc: 0.6681 - val_loss: 0.6770 - val_binary_accuracy: 0.6219 - val_precision: 0.6550 - val_recall: 0.8306 - val_auc: 0.6376\n",
      "Epoch 4/5\n",
      "224/224 [==============================] - 8s 34ms/step - loss: 0.6470 - binary_accuracy: 0.6551 - precision: 0.7133 - recall: 0.7637 - auc: 0.6927 - val_loss: 0.6782 - val_binary_accuracy: 0.6080 - val_precision: 0.6538 - val_recall: 0.7883 - val_auc: 0.6380\n",
      "Epoch 5/5\n",
      "224/224 [==============================] - 8s 34ms/step - loss: 0.6313 - binary_accuracy: 0.6700 - precision: 0.7128 - recall: 0.8044 - auc: 0.7128 - val_loss: 0.6786 - val_binary_accuracy: 0.6030 - val_precision: 0.6452 - val_recall: 0.8065 - val_auc: 0.6374\n"
     ]
    }
   ],
   "source": [
    "history = model.fit(train_ds, validation_data=valid_ds, epochs=epochs, callbacks=callbacks)"
   ],
   "metadata": {
    "collapsed": false
   }
  },
  {
   "cell_type": "code",
   "execution_count": 10,
   "outputs": [
    {
     "name": "stdout",
     "output_type": "stream",
     "text": [
      "dict_keys(['loss', 'binary_accuracy', 'precision', 'recall', 'auc', 'val_loss', 'val_binary_accuracy', 'val_precision', 'val_recall', 'val_auc'])\n"
     ]
    },
    {
     "data": {
      "text/plain": "<Figure size 864x432 with 2 Axes>",
      "image/png": "[encoded data removed]"
     },
     "metadata": {
      "needs_background": "light"
     },
     "output_type": "display_data"
    }
   ],
   "source": [
    "from utils.visualization import plot_history, plot_structure\n",
    "\n",
    "plot_structure(model, 'word2vec.png')\n",
    "plot_history(history.history)"
   ],
   "metadata": {
    "collapsed": false
   }
  },
  {
   "cell_type": "code",
   "execution_count": 11,
   "outputs": [
    {
     "name": "stdout",
     "output_type": "stream",
     "text": [
      "94/94 [==============================] - 3s 12ms/step\n"
     ]
    },
    {
     "data": {
      "text/plain": "array([[0.52117753],\n       [0.6525718 ],\n       [0.52554744],\n       ...,\n       [0.5271621 ],\n       [0.67948383],\n       [0.559614  ]], dtype=float32)"
     },
     "execution_count": 11,
     "metadata": {},
     "output_type": "execute_result"
    }
   ],
   "source": [
    "from utils.prediction import predict\n",
    "\n",
    "predict(model, test_ds, 'w2v_prediction.txt')"
   ],
   "metadata": {
    "collapsed": false
   }
  }
 ],
 "metadata": {
  "kernelspec": {
   "display_name": "Python 3",
   "language": "python",
   "name": "python3"
  },
  "language_info": {
   "codemirror_mode": {
    "name": "ipython",
    "version": 2
   },
   "file_extension": ".py",
   "mimetype": "text/x-python",
   "name": "python",
   "nbconvert_exporter": "python",
   "pygments_lexer": "ipython2",
   "version": "2.7.6"
  }
 },
 "nbformat": 4,
 "nbformat_minor": 0
}
