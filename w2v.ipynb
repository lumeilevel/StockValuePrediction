{
 "cells": [
  {
   "cell_type": "code",
   "execution_count": 51,
   "metadata": {
    "collapsed": true
   },
   "outputs": [
    {
     "name": "stdout",
     "output_type": "stream",
     "text": [
      "The autoreload extension is already loaded. To reload it, use:\n",
      "  %reload_ext autoreload\n",
      "2.10.1\n"
     ]
    },
    {
     "data": {
      "text/plain": "[PhysicalDevice(name='/physical_device:GPU:0', device_type='GPU')]"
     },
     "execution_count": 51,
     "metadata": {},
     "output_type": "execute_result"
    }
   ],
   "source": [
    "%load_ext autoreload\n",
    "%autoreload 2\n",
    "\n",
    "import numpy as np\n",
    "import tensorflow as tf\n",
    "from tensorflow import keras\n",
    "from gensim.models import KeyedVectors\n",
    "from jieba.analyse import extract_tags, textrank\n",
    "\n",
    "tf.get_logger().setLevel('ERROR')\n",
    "print(tf.__version__)\n",
    "tf.config.list_physical_devices('GPU')"
   ]
  },
  {
   "cell_type": "code",
   "execution_count": 55,
   "outputs": [
    {
     "name": "stdout",
     "output_type": "stream",
     "text": [
      "Total number of news: 30339\n",
      "Maximum number of news for each group in training set: 64\n",
      "Minimum number of news for each group in training set: 3\n",
      "Maximum number of news for each group in test set: 26\n",
      "Minimum number of news for each group in test set: 3\n",
      "Maximum number of times a news appears in training set: 22\n",
      "Minimum number of times a news appears in training set: 0\n",
      "Maximum number of times a news appears in test set: 11\n",
      "Minimum number of times a news appears in test set: 0\n",
      "Loading word2vec model...\n"
     ]
    }
   ],
   "source": [
    "from utils.preprocessing import preprocess\n",
    "\n",
    "raw_ds = preprocess('word2vec')"
   ],
   "metadata": {
    "collapsed": false
   }
  },
  {
   "cell_type": "code",
   "execution_count": 29,
   "outputs": [
    {
     "name": "stdout",
     "output_type": "stream",
     "text": [
      "CPU times: total: 15min 45s\n",
      "Wall time: 15min 46s\n"
     ]
    }
   ],
   "source": [
    "%%time\n",
    "cn_model = KeyedVectors.load_word2vec_format(r'D:\\fd\\semester5\\PRML\\PJ\\assignment2\\Chinese-Word-Vectors-master\\tencent-ailab-embedding-zh-d100-v0.2.0\\tencent-ailab-embedding-zh-d100-v0.2.0.txt', binary=False)"
   ],
   "metadata": {
    "collapsed": false
   }
  },
  {
   "cell_type": "code",
   "execution_count": 49,
   "outputs": [],
   "source": [
    "title, content = 1, 3"
   ],
   "metadata": {
    "collapsed": false
   }
  },
  {
   "cell_type": "code",
   "execution_count": 47,
   "outputs": [
    {
     "ename": "KeyError",
     "evalue": "\"Key '通大手' not present\"",
     "output_type": "error",
     "traceback": [
      "\u001B[1;31m---------------------------------------------------------------------------\u001B[0m",
      "\u001B[1;31mKeyError\u001B[0m                                  Traceback (most recent call last)",
      "Input \u001B[1;32mIn [47]\u001B[0m, in \u001B[0;36m<cell line: 1>\u001B[1;34m()\u001B[0m\n\u001B[1;32m----> 1\u001B[0m mat \u001B[38;5;241m=\u001B[39m [[cn_model[word]\u001B[38;5;241m*\u001B[39mweight \u001B[38;5;28;01mfor\u001B[39;00m word, weight \u001B[38;5;129;01min\u001B[39;00m (extract_tags(raw_ds[\u001B[38;5;124m'\u001B[39m\u001B[38;5;124mnews\u001B[39m\u001B[38;5;124m'\u001B[39m][ID][\u001B[38;5;241m0\u001B[39m], topK\u001B[38;5;241m=\u001B[39mtitle, withWeight\u001B[38;5;241m=\u001B[39m\u001B[38;5;28;01mTrue\u001B[39;00m)\u001B[38;5;241m+\u001B[39mtextrank(raw_ds[\u001B[38;5;124m'\u001B[39m\u001B[38;5;124mnews\u001B[39m\u001B[38;5;124m'\u001B[39m][ID][\u001B[38;5;241m1\u001B[39m], topK\u001B[38;5;241m=\u001B[39mcontent, withWeight\u001B[38;5;241m=\u001B[39m\u001B[38;5;28;01mTrue\u001B[39;00m))] \u001B[38;5;28;01mfor\u001B[39;00m ID \u001B[38;5;129;01min\u001B[39;00m raw_ds[\u001B[38;5;124m'\u001B[39m\u001B[38;5;124mnews\u001B[39m\u001B[38;5;124m'\u001B[39m]\u001B[38;5;241m.\u001B[39mkeys()]\n",
      "Input \u001B[1;32mIn [47]\u001B[0m, in \u001B[0;36m<listcomp>\u001B[1;34m(.0)\u001B[0m\n\u001B[1;32m----> 1\u001B[0m mat \u001B[38;5;241m=\u001B[39m [[cn_model[word]\u001B[38;5;241m*\u001B[39mweight \u001B[38;5;28;01mfor\u001B[39;00m word, weight \u001B[38;5;129;01min\u001B[39;00m (extract_tags(raw_ds[\u001B[38;5;124m'\u001B[39m\u001B[38;5;124mnews\u001B[39m\u001B[38;5;124m'\u001B[39m][ID][\u001B[38;5;241m0\u001B[39m], topK\u001B[38;5;241m=\u001B[39mtitle, withWeight\u001B[38;5;241m=\u001B[39m\u001B[38;5;28;01mTrue\u001B[39;00m)\u001B[38;5;241m+\u001B[39mtextrank(raw_ds[\u001B[38;5;124m'\u001B[39m\u001B[38;5;124mnews\u001B[39m\u001B[38;5;124m'\u001B[39m][ID][\u001B[38;5;241m1\u001B[39m], topK\u001B[38;5;241m=\u001B[39mcontent, withWeight\u001B[38;5;241m=\u001B[39m\u001B[38;5;28;01mTrue\u001B[39;00m))] \u001B[38;5;28;01mfor\u001B[39;00m ID \u001B[38;5;129;01min\u001B[39;00m raw_ds[\u001B[38;5;124m'\u001B[39m\u001B[38;5;124mnews\u001B[39m\u001B[38;5;124m'\u001B[39m]\u001B[38;5;241m.\u001B[39mkeys()]\n",
      "Input \u001B[1;32mIn [47]\u001B[0m, in \u001B[0;36m<listcomp>\u001B[1;34m(.0)\u001B[0m\n\u001B[1;32m----> 1\u001B[0m mat \u001B[38;5;241m=\u001B[39m [[\u001B[43mcn_model\u001B[49m\u001B[43m[\u001B[49m\u001B[43mword\u001B[49m\u001B[43m]\u001B[49m\u001B[38;5;241m*\u001B[39mweight \u001B[38;5;28;01mfor\u001B[39;00m word, weight \u001B[38;5;129;01min\u001B[39;00m (extract_tags(raw_ds[\u001B[38;5;124m'\u001B[39m\u001B[38;5;124mnews\u001B[39m\u001B[38;5;124m'\u001B[39m][ID][\u001B[38;5;241m0\u001B[39m], topK\u001B[38;5;241m=\u001B[39mtitle, withWeight\u001B[38;5;241m=\u001B[39m\u001B[38;5;28;01mTrue\u001B[39;00m)\u001B[38;5;241m+\u001B[39mtextrank(raw_ds[\u001B[38;5;124m'\u001B[39m\u001B[38;5;124mnews\u001B[39m\u001B[38;5;124m'\u001B[39m][ID][\u001B[38;5;241m1\u001B[39m], topK\u001B[38;5;241m=\u001B[39mcontent, withWeight\u001B[38;5;241m=\u001B[39m\u001B[38;5;28;01mTrue\u001B[39;00m))] \u001B[38;5;28;01mfor\u001B[39;00m ID \u001B[38;5;129;01min\u001B[39;00m raw_ds[\u001B[38;5;124m'\u001B[39m\u001B[38;5;124mnews\u001B[39m\u001B[38;5;124m'\u001B[39m]\u001B[38;5;241m.\u001B[39mkeys()]\n",
      "File \u001B[1;32mD:\\Anaconda\\envs\\py38\\lib\\site-packages\\gensim\\models\\keyedvectors.py:403\u001B[0m, in \u001B[0;36mKeyedVectors.__getitem__\u001B[1;34m(self, key_or_keys)\u001B[0m\n\u001B[0;32m    389\u001B[0m \u001B[38;5;124;03m\"\"\"Get vector representation of `key_or_keys`.\u001B[39;00m\n\u001B[0;32m    390\u001B[0m \n\u001B[0;32m    391\u001B[0m \u001B[38;5;124;03mParameters\u001B[39;00m\n\u001B[1;32m   (...)\u001B[0m\n\u001B[0;32m    400\u001B[0m \n\u001B[0;32m    401\u001B[0m \u001B[38;5;124;03m\"\"\"\u001B[39;00m\n\u001B[0;32m    402\u001B[0m \u001B[38;5;28;01mif\u001B[39;00m \u001B[38;5;28misinstance\u001B[39m(key_or_keys, _KEY_TYPES):\n\u001B[1;32m--> 403\u001B[0m     \u001B[38;5;28;01mreturn\u001B[39;00m \u001B[38;5;28;43mself\u001B[39;49m\u001B[38;5;241;43m.\u001B[39;49m\u001B[43mget_vector\u001B[49m\u001B[43m(\u001B[49m\u001B[43mkey_or_keys\u001B[49m\u001B[43m)\u001B[49m\n\u001B[0;32m    405\u001B[0m \u001B[38;5;28;01mreturn\u001B[39;00m vstack([\u001B[38;5;28mself\u001B[39m\u001B[38;5;241m.\u001B[39mget_vector(key) \u001B[38;5;28;01mfor\u001B[39;00m key \u001B[38;5;129;01min\u001B[39;00m key_or_keys])\n",
      "File \u001B[1;32mD:\\Anaconda\\envs\\py38\\lib\\site-packages\\gensim\\models\\keyedvectors.py:446\u001B[0m, in \u001B[0;36mKeyedVectors.get_vector\u001B[1;34m(self, key, norm)\u001B[0m\n\u001B[0;32m    422\u001B[0m \u001B[38;5;28;01mdef\u001B[39;00m \u001B[38;5;21mget_vector\u001B[39m(\u001B[38;5;28mself\u001B[39m, key, norm\u001B[38;5;241m=\u001B[39m\u001B[38;5;28;01mFalse\u001B[39;00m):\n\u001B[0;32m    423\u001B[0m     \u001B[38;5;124;03m\"\"\"Get the key's vector, as a 1D numpy array.\u001B[39;00m\n\u001B[0;32m    424\u001B[0m \n\u001B[0;32m    425\u001B[0m \u001B[38;5;124;03m    Parameters\u001B[39;00m\n\u001B[1;32m   (...)\u001B[0m\n\u001B[0;32m    444\u001B[0m \n\u001B[0;32m    445\u001B[0m \u001B[38;5;124;03m    \"\"\"\u001B[39;00m\n\u001B[1;32m--> 446\u001B[0m     index \u001B[38;5;241m=\u001B[39m \u001B[38;5;28;43mself\u001B[39;49m\u001B[38;5;241;43m.\u001B[39;49m\u001B[43mget_index\u001B[49m\u001B[43m(\u001B[49m\u001B[43mkey\u001B[49m\u001B[43m)\u001B[49m\n\u001B[0;32m    447\u001B[0m     \u001B[38;5;28;01mif\u001B[39;00m norm:\n\u001B[0;32m    448\u001B[0m         \u001B[38;5;28mself\u001B[39m\u001B[38;5;241m.\u001B[39mfill_norms()\n",
      "File \u001B[1;32mD:\\Anaconda\\envs\\py38\\lib\\site-packages\\gensim\\models\\keyedvectors.py:420\u001B[0m, in \u001B[0;36mKeyedVectors.get_index\u001B[1;34m(self, key, default)\u001B[0m\n\u001B[0;32m    418\u001B[0m     \u001B[38;5;28;01mreturn\u001B[39;00m default\n\u001B[0;32m    419\u001B[0m \u001B[38;5;28;01melse\u001B[39;00m:\n\u001B[1;32m--> 420\u001B[0m     \u001B[38;5;28;01mraise\u001B[39;00m \u001B[38;5;167;01mKeyError\u001B[39;00m(\u001B[38;5;124mf\u001B[39m\u001B[38;5;124m\"\u001B[39m\u001B[38;5;124mKey \u001B[39m\u001B[38;5;124m'\u001B[39m\u001B[38;5;132;01m{\u001B[39;00mkey\u001B[38;5;132;01m}\u001B[39;00m\u001B[38;5;124m'\u001B[39m\u001B[38;5;124m not present\u001B[39m\u001B[38;5;124m\"\u001B[39m)\n",
      "\u001B[1;31mKeyError\u001B[0m: \"Key '通大手' not present\""
     ]
    }
   ],
   "source": [
    "mat = [[cn_model[word]*weight for word, weight in (extract_tags(raw_ds['news'][ID][0], topK=title, withWeight=True)+textrank(raw_ds['news'][ID][1], topK=content, withWeight=True))] for ID in raw_ds['news'].keys()]"
   ],
   "metadata": {
    "collapsed": false
   }
  },
  {
   "cell_type": "code",
   "execution_count": 57,
   "outputs": [
    {
     "ename": "KeyError",
     "evalue": "\"Key '低炭' not present\"",
     "output_type": "error",
     "traceback": [
      "\u001B[1;31m---------------------------------------------------------------------------\u001B[0m",
      "\u001B[1;31mKeyError\u001B[0m                                  Traceback (most recent call last)",
      "Input \u001B[1;32mIn [57]\u001B[0m, in \u001B[0;36m<cell line: 1>\u001B[1;34m()\u001B[0m\n\u001B[1;32m----> 1\u001B[0m mat \u001B[38;5;241m=\u001B[39m [[cn_model[word]\u001B[38;5;241m*\u001B[39mweight \u001B[38;5;28;01mfor\u001B[39;00m word, weight \u001B[38;5;129;01min\u001B[39;00m textrank(raw_ds[\u001B[38;5;124m'\u001B[39m\u001B[38;5;124mnews\u001B[39m\u001B[38;5;124m'\u001B[39m][ID][\u001B[38;5;241m0\u001B[39m], topK\u001B[38;5;241m=\u001B[39mtitle, withWeight\u001B[38;5;241m=\u001B[39m\u001B[38;5;28;01mTrue\u001B[39;00m)] \u001B[38;5;28;01mfor\u001B[39;00m ID \u001B[38;5;129;01min\u001B[39;00m raw_ds[\u001B[38;5;124m'\u001B[39m\u001B[38;5;124mnews\u001B[39m\u001B[38;5;124m'\u001B[39m]\u001B[38;5;241m.\u001B[39mkeys()]\n",
      "Input \u001B[1;32mIn [57]\u001B[0m, in \u001B[0;36m<listcomp>\u001B[1;34m(.0)\u001B[0m\n\u001B[1;32m----> 1\u001B[0m mat \u001B[38;5;241m=\u001B[39m [[cn_model[word]\u001B[38;5;241m*\u001B[39mweight \u001B[38;5;28;01mfor\u001B[39;00m word, weight \u001B[38;5;129;01min\u001B[39;00m textrank(raw_ds[\u001B[38;5;124m'\u001B[39m\u001B[38;5;124mnews\u001B[39m\u001B[38;5;124m'\u001B[39m][ID][\u001B[38;5;241m0\u001B[39m], topK\u001B[38;5;241m=\u001B[39mtitle, withWeight\u001B[38;5;241m=\u001B[39m\u001B[38;5;28;01mTrue\u001B[39;00m)] \u001B[38;5;28;01mfor\u001B[39;00m ID \u001B[38;5;129;01min\u001B[39;00m raw_ds[\u001B[38;5;124m'\u001B[39m\u001B[38;5;124mnews\u001B[39m\u001B[38;5;124m'\u001B[39m]\u001B[38;5;241m.\u001B[39mkeys()]\n",
      "Input \u001B[1;32mIn [57]\u001B[0m, in \u001B[0;36m<listcomp>\u001B[1;34m(.0)\u001B[0m\n\u001B[1;32m----> 1\u001B[0m mat \u001B[38;5;241m=\u001B[39m [[\u001B[43mcn_model\u001B[49m\u001B[43m[\u001B[49m\u001B[43mword\u001B[49m\u001B[43m]\u001B[49m\u001B[38;5;241m*\u001B[39mweight \u001B[38;5;28;01mfor\u001B[39;00m word, weight \u001B[38;5;129;01min\u001B[39;00m textrank(raw_ds[\u001B[38;5;124m'\u001B[39m\u001B[38;5;124mnews\u001B[39m\u001B[38;5;124m'\u001B[39m][ID][\u001B[38;5;241m0\u001B[39m], topK\u001B[38;5;241m=\u001B[39mtitle, withWeight\u001B[38;5;241m=\u001B[39m\u001B[38;5;28;01mTrue\u001B[39;00m)] \u001B[38;5;28;01mfor\u001B[39;00m ID \u001B[38;5;129;01min\u001B[39;00m raw_ds[\u001B[38;5;124m'\u001B[39m\u001B[38;5;124mnews\u001B[39m\u001B[38;5;124m'\u001B[39m]\u001B[38;5;241m.\u001B[39mkeys()]\n",
      "File \u001B[1;32mD:\\Anaconda\\envs\\py38\\lib\\site-packages\\gensim\\models\\keyedvectors.py:403\u001B[0m, in \u001B[0;36mKeyedVectors.__getitem__\u001B[1;34m(self, key_or_keys)\u001B[0m\n\u001B[0;32m    389\u001B[0m \u001B[38;5;124;03m\"\"\"Get vector representation of `key_or_keys`.\u001B[39;00m\n\u001B[0;32m    390\u001B[0m \n\u001B[0;32m    391\u001B[0m \u001B[38;5;124;03mParameters\u001B[39;00m\n\u001B[1;32m   (...)\u001B[0m\n\u001B[0;32m    400\u001B[0m \n\u001B[0;32m    401\u001B[0m \u001B[38;5;124;03m\"\"\"\u001B[39;00m\n\u001B[0;32m    402\u001B[0m \u001B[38;5;28;01mif\u001B[39;00m \u001B[38;5;28misinstance\u001B[39m(key_or_keys, _KEY_TYPES):\n\u001B[1;32m--> 403\u001B[0m     \u001B[38;5;28;01mreturn\u001B[39;00m \u001B[38;5;28;43mself\u001B[39;49m\u001B[38;5;241;43m.\u001B[39;49m\u001B[43mget_vector\u001B[49m\u001B[43m(\u001B[49m\u001B[43mkey_or_keys\u001B[49m\u001B[43m)\u001B[49m\n\u001B[0;32m    405\u001B[0m \u001B[38;5;28;01mreturn\u001B[39;00m vstack([\u001B[38;5;28mself\u001B[39m\u001B[38;5;241m.\u001B[39mget_vector(key) \u001B[38;5;28;01mfor\u001B[39;00m key \u001B[38;5;129;01min\u001B[39;00m key_or_keys])\n",
      "File \u001B[1;32mD:\\Anaconda\\envs\\py38\\lib\\site-packages\\gensim\\models\\keyedvectors.py:446\u001B[0m, in \u001B[0;36mKeyedVectors.get_vector\u001B[1;34m(self, key, norm)\u001B[0m\n\u001B[0;32m    422\u001B[0m \u001B[38;5;28;01mdef\u001B[39;00m \u001B[38;5;21mget_vector\u001B[39m(\u001B[38;5;28mself\u001B[39m, key, norm\u001B[38;5;241m=\u001B[39m\u001B[38;5;28;01mFalse\u001B[39;00m):\n\u001B[0;32m    423\u001B[0m     \u001B[38;5;124;03m\"\"\"Get the key's vector, as a 1D numpy array.\u001B[39;00m\n\u001B[0;32m    424\u001B[0m \n\u001B[0;32m    425\u001B[0m \u001B[38;5;124;03m    Parameters\u001B[39;00m\n\u001B[1;32m   (...)\u001B[0m\n\u001B[0;32m    444\u001B[0m \n\u001B[0;32m    445\u001B[0m \u001B[38;5;124;03m    \"\"\"\u001B[39;00m\n\u001B[1;32m--> 446\u001B[0m     index \u001B[38;5;241m=\u001B[39m \u001B[38;5;28;43mself\u001B[39;49m\u001B[38;5;241;43m.\u001B[39;49m\u001B[43mget_index\u001B[49m\u001B[43m(\u001B[49m\u001B[43mkey\u001B[49m\u001B[43m)\u001B[49m\n\u001B[0;32m    447\u001B[0m     \u001B[38;5;28;01mif\u001B[39;00m norm:\n\u001B[0;32m    448\u001B[0m         \u001B[38;5;28mself\u001B[39m\u001B[38;5;241m.\u001B[39mfill_norms()\n",
      "File \u001B[1;32mD:\\Anaconda\\envs\\py38\\lib\\site-packages\\gensim\\models\\keyedvectors.py:420\u001B[0m, in \u001B[0;36mKeyedVectors.get_index\u001B[1;34m(self, key, default)\u001B[0m\n\u001B[0;32m    418\u001B[0m     \u001B[38;5;28;01mreturn\u001B[39;00m default\n\u001B[0;32m    419\u001B[0m \u001B[38;5;28;01melse\u001B[39;00m:\n\u001B[1;32m--> 420\u001B[0m     \u001B[38;5;28;01mraise\u001B[39;00m \u001B[38;5;167;01mKeyError\u001B[39;00m(\u001B[38;5;124mf\u001B[39m\u001B[38;5;124m\"\u001B[39m\u001B[38;5;124mKey \u001B[39m\u001B[38;5;124m'\u001B[39m\u001B[38;5;132;01m{\u001B[39;00mkey\u001B[38;5;132;01m}\u001B[39;00m\u001B[38;5;124m'\u001B[39m\u001B[38;5;124m not present\u001B[39m\u001B[38;5;124m\"\u001B[39m)\n",
      "\u001B[1;31mKeyError\u001B[0m: \"Key '低炭' not present\""
     ]
    }
   ],
   "source": [
    "mat = [[cn_model[word]*weight for word, weight in textrank(raw_ds['news'][ID][0], topK=title, withWeight=True)] for ID in raw_ds['news'].keys()]"
   ],
   "metadata": {
    "collapsed": false
   }
  }
 ],
 "metadata": {
  "kernelspec": {
   "display_name": "Python 3",
   "language": "python",
   "name": "python3"
  },
  "language_info": {
   "codemirror_mode": {
    "name": "ipython",
    "version": 2
   },
   "file_extension": ".py",
   "mimetype": "text/x-python",
   "name": "python",
   "nbconvert_exporter": "python",
   "pygments_lexer": "ipython2",
   "version": "2.7.6"
  }
 },
 "nbformat": 4,
 "nbformat_minor": 0
}
