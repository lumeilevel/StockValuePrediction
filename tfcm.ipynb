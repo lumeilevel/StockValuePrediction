{
 "cells": [
  {
   "cell_type": "code",
   "execution_count": null,
   "outputs": [],
   "source": [],
   "metadata": {
    "collapsed": false
   }
  },
  {
   "cell_type": "code",
   "execution_count": 1,
   "metadata": {
    "collapsed": true
   },
   "outputs": [
    {
     "name": "stdout",
     "output_type": "stream",
     "text": [
      "Total number of news: 30339\n",
      "Maximum number of news for each group in training set: 64\n",
      "Minimum number of news for each group in training set: 3\n",
      "Maximum number of news for each group in test set: 26\n",
      "Minimum number of news for each group in test set: 3\n",
      "Maximum number of times a news appears in training set: 22\n",
      "Minimum number of times a news appears in training set: 0\n",
      "Maximum number of times a news appears in test set: 11\n",
      "Minimum number of times a news appears in test set: 0\n"
     ]
    }
   ],
   "source": [
    "from preprocessing import preprocess\n",
    "\n",
    "raw_ds = preprocess('tfcm')"
   ]
  },
  {
   "cell_type": "code",
   "execution_count": 2,
   "outputs": [
    {
     "data": {
      "text/plain": "10022"
     },
     "execution_count": 2,
     "metadata": {},
     "output_type": "execute_result"
    }
   ],
   "source": [
    "len(raw_ds['score'])"
   ],
   "metadata": {
    "collapsed": false
   }
  },
  {
   "cell_type": "code",
   "execution_count": 3,
   "outputs": [
    {
     "data": {
      "text/plain": "51"
     },
     "execution_count": 3,
     "metadata": {},
     "output_type": "execute_result"
    }
   ],
   "source": [
    "valueRange = set(raw_ds['score'].values())\n",
    "len(valueRange)"
   ],
   "metadata": {
    "collapsed": false
   }
  },
  {
   "cell_type": "code",
   "execution_count": 4,
   "outputs": [
    {
     "data": {
      "text/plain": "{0.0,\n 0.08333333333333333,\n 0.1,\n 0.1111111111111111,\n 0.125,\n 0.13333333333333333,\n 0.13636363636363635,\n 0.14285714285714285,\n 0.16666666666666666,\n 0.2,\n 0.2222222222222222,\n 0.25,\n 0.2857142857142857,\n 0.3,\n 0.3333333333333333,\n 0.35714285714285715,\n 0.36363636363636365,\n 0.375,\n 0.38461538461538464,\n 0.4,\n 0.42857142857142855,\n 0.4444444444444444,\n 0.45454545454545453,\n 0.5,\n 0.5454545454545454,\n 0.5555555555555556,\n 0.5714285714285714,\n 0.5833333333333334,\n 0.6,\n 0.625,\n 0.6363636363636364,\n 0.6666666666666666,\n 0.7,\n 0.7142857142857143,\n 0.7272727272727273,\n 0.7333333333333333,\n 0.75,\n 0.7692307692307693,\n 0.7777777777777778,\n 0.8,\n 0.8181818181818182,\n 0.8333333333333334,\n 0.8461538461538461,\n 0.8571428571428571,\n 0.875,\n 0.8823529411764706,\n 0.8888888888888888,\n 0.9,\n 0.9090909090909091,\n 0.9333333333333333,\n 0.9375}"
     },
     "execution_count": 4,
     "metadata": {},
     "output_type": "execute_result"
    }
   ],
   "source": [
    "valueRange"
   ],
   "metadata": {
    "collapsed": false
   }
  },
  {
   "cell_type": "code",
   "execution_count": 5,
   "outputs": [
    {
     "data": {
      "text/plain": "<matplotlib.collections.PathCollection at 0x1f6496d34c0>"
     },
     "execution_count": 5,
     "metadata": {},
     "output_type": "execute_result"
    },
    {
     "data": {
      "text/plain": "<Figure size 432x288 with 1 Axes>",
      "image/png": "[encoded data removed]"
     },
     "metadata": {
      "needs_background": "light"
     },
     "output_type": "display_data"
    }
   ],
   "source": [
    "from matplotlib import pyplot as plt\n",
    "\n",
    "plt.scatter(range(len(raw_ds['score'])), raw_ds['score'].values())"
   ],
   "metadata": {
    "collapsed": false
   }
  },
  {
   "cell_type": "code",
   "execution_count": 8,
   "outputs": [
    {
     "name": "stdout",
     "output_type": "stream",
     "text": [
      "：\n",
      "，\n",
      "。\n",
      "；\n",
      "、\n",
      "（\n",
      "）\n",
      "【\n",
      "】\n",
      "“\n",
      "”\n",
      "‘\n",
      "’\n",
      "《\n",
      "》\n",
      "①\n",
      "②\n",
      "③\n",
      "④\n",
      "⑤\n",
      "⑥\n",
      "⑦\n",
      "⑧\n",
      "⑨\n",
      "⑩\n",
      "(\n",
      ")\n",
      ",\n",
      "&\n",
      "的\n",
      "个\n",
      "并\n",
      "且\n",
      "么\n",
      "之\n",
      "也\n",
      "些\n",
      "于\n",
      "以\n",
      "诸\n",
      "等\n",
      "们\n",
      "乎\n",
      "而\n",
      "和\n",
      "即\n",
      "及\n",
      "叫\n",
      "吧\n",
      "呀\n",
      "呗\n",
      "呵\n",
      "哪\n",
      "尔\n",
      "拿\n",
      "宁\n",
      "你\n",
      "我\n",
      "他\n",
      "她\n",
      "它\n",
      "将\n",
      "就\n",
      "尽\n",
      "已\n",
      "得\n",
      "彼\n",
      "怎\n",
      "打\n",
      "把\n",
      "被\n",
      "替\n",
      "故\n",
      "某\n",
      "着\n",
      "给\n",
      "若\n",
      "虽\n",
      "让\n",
      "赶\n",
      "起\n",
      "然\n",
      "那\n"
     ]
    }
   ],
   "source": [
    "stopWords = \"：，。；、（）【】“”‘’《》①②③④⑤⑥⑦⑧⑨⑩(),&的个并且么之也些于以诸等们乎而和即及叫吧呀呗呵哪\" \\\n",
    "                \"尔拿宁你我他她它将就尽已得彼怎打把被替故某着给若虽让赶起然那\"\n",
    "for i in stopWords:\n",
    "    print(i)"
   ],
   "metadata": {
    "collapsed": false
   }
  }
 ],
 "metadata": {
  "kernelspec": {
   "display_name": "Python 3",
   "language": "python",
   "name": "python3"
  },
  "language_info": {
   "codemirror_mode": {
    "name": "ipython",
    "version": 2
   },
   "file_extension": ".py",
   "mimetype": "text/x-python",
   "name": "python",
   "nbconvert_exporter": "python",
   "pygments_lexer": "ipython2",
   "version": "2.7.6"
  }
 },
 "nbformat": 4,
 "nbformat_minor": 0
}
