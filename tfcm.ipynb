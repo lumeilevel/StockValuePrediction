{
 "cells": [
  {
   "cell_type": "code",
   "execution_count": 1,
   "outputs": [
    {
     "name": "stdout",
     "output_type": "stream",
     "text": [
      "2.10.1\n"
     ]
    },
    {
     "data": {
      "text/plain": "[PhysicalDevice(name='/physical_device:GPU:0', device_type='GPU')]"
     },
     "execution_count": 1,
     "metadata": {},
     "output_type": "execute_result"
    }
   ],
   "source": [
    "import os\n",
    "import numpy as np\n",
    "import tensorflow as tf\n",
    "import tensorflow_hub as hub\n",
    "import tensorflow_text as text          # needed for loading bert from hub\n",
    "from official.nlp import optimization   # to create AdamW optimizer\n",
    "from matplotlib import pyplot as plt\n",
    "from collections import defaultdict\n",
    "\n",
    "tf.get_logger().setLevel('ERROR')\n",
    "print(tf.__version__)\n",
    "tf.config.list_physical_devices('GPU')"
   ],
   "metadata": {
    "collapsed": false
   }
  },
  {
   "cell_type": "code",
   "execution_count": 2,
   "metadata": {
    "collapsed": true
   },
   "outputs": [
    {
     "name": "stdout",
     "output_type": "stream",
     "text": [
      "Total number of news: 30339\n",
      "Maximum number of news for each group in training set: 64\n",
      "Minimum number of news for each group in training set: 3\n",
      "Maximum number of news for each group in test set: 26\n",
      "Minimum number of news for each group in test set: 3\n",
      "Maximum number of times a news appears in training set: 22\n",
      "Minimum number of times a news appears in training set: 0\n",
      "Maximum number of times a news appears in test set: 11\n",
      "Minimum number of times a news appears in test set: 0\n"
     ]
    }
   ],
   "source": [
    "from preprocessing import preprocess, id2vec\n",
    "\n",
    "raw_ds = preprocess('tfcm')"
   ]
  },
  {
   "cell_type": "code",
   "execution_count": 3,
   "outputs": [
    {
     "data": {
      "text/plain": "(24160, 52)"
     },
     "execution_count": 3,
     "metadata": {},
     "output_type": "execute_result"
    }
   ],
   "source": [
    "valueRange = set(raw_ds['score'].values())\n",
    "len(raw_ds['score']), len(valueRange)"
   ],
   "metadata": {
    "collapsed": false
   }
  },
  {
   "cell_type": "code",
   "execution_count": 9,
   "outputs": [
    {
     "data": {
      "text/plain": "(2460, 2590, 3000, 6179)"
     },
     "execution_count": 9,
     "metadata": {},
     "output_type": "execute_result"
    }
   ],
   "source": [
    "countLine = 0\n",
    "countID = defaultdict(int)\n",
    "flag = False\n",
    "countInLine = 0\n",
    "flagIn = False\n",
    "for line in raw_ds['test']:\n",
    "    for ID in line:\n",
    "        if ID not in raw_ds['score']:\n",
    "            countID[ID] += 1\n",
    "            flag = True\n",
    "        else:\n",
    "            flagIn = True\n",
    "    if flag:\n",
    "        countLine += 1\n",
    "        flag = False\n",
    "    if flagIn:\n",
    "        countInLine += 1\n",
    "        flag1 = False\n",
    "countLine, countInLine, len(raw_ds['test']), len(countID)"
   ],
   "metadata": {
    "collapsed": false
   }
  },
  {
   "cell_type": "code",
   "execution_count": 5,
   "outputs": [
    {
     "data": {
      "text/plain": "<matplotlib.collections.PathCollection at 0x1f6496d34c0>"
     },
     "execution_count": 5,
     "metadata": {},
     "output_type": "execute_result"
    },
    {
     "data": {
      "text/plain": "<Figure size 432x288 with 1 Axes>",
      "image/png": "[encoded data removed]"
     },
     "metadata": {
      "needs_background": "light"
     },
     "output_type": "display_data"
    }
   ],
   "source": [
    "plt.scatter(range(len(raw_ds['score'])), raw_ds['score'].values())"
   ],
   "metadata": {
    "collapsed": false
   }
  },
  {
   "cell_type": "code",
   "execution_count": 19,
   "outputs": [
    {
     "data": {
      "text/plain": "array(['5187439', '176694', '175203', ..., '5539285', '179996', '9321204'],\n      dtype='<U32')"
     },
     "execution_count": 19,
     "metadata": {},
     "output_type": "execute_result"
    }
   ],
   "source": [
    "np.array(raw_ds['train_reg'])[:,0]"
   ],
   "metadata": {
    "collapsed": false
   }
  },
  {
   "cell_type": "code",
   "execution_count": 3,
   "outputs": [],
   "source": [
    "train_data = np.vectorize(id2text:= lambda x: raw_ds['news'][x])(np.array(raw_ds['train_reg'])[:,0])\n",
    "train_label = np.array(raw_ds['train_reg'])[:,1].astype(np.float32)\n",
    "valid_data = np.vectorize(id2text)(np.array(raw_ds['valid_reg'])[:,0])\n",
    "valid_label = np.array(raw_ds['valid_reg'])[:,1].astype(np.float32)"
   ],
   "metadata": {
    "collapsed": false
   }
  },
  {
   "cell_type": "code",
   "execution_count": 6,
   "outputs": [
    {
     "data": {
      "text/plain": "array([1., 0., 0., ..., 0., 1., 1.], dtype=float32)"
     },
     "execution_count": 6,
     "metadata": {},
     "output_type": "execute_result"
    }
   ],
   "source": [
    "valid_label"
   ],
   "metadata": {
    "collapsed": false
   }
  },
  {
   "cell_type": "code",
   "execution_count": 7,
   "outputs": [
    {
     "data": {
      "text/plain": "(21744, 2416)"
     },
     "execution_count": 7,
     "metadata": {},
     "output_type": "execute_result"
    }
   ],
   "source": [
    "train_ds = tf.data.Dataset.from_tensor_slices((train_data, train_label))\n",
    "valid_ds = tf.data.Dataset.from_tensor_slices((valid_data, valid_label))\n",
    "len(train_ds), len(valid_ds)"
   ],
   "metadata": {
    "collapsed": false
   }
  },
  {
   "cell_type": "code",
   "execution_count": 8,
   "outputs": [
    {
     "data": {
      "text/plain": "(680, 76)"
     },
     "execution_count": 8,
     "metadata": {},
     "output_type": "execute_result"
    }
   ],
   "source": [
    "# tf.compat.v1.disable_eager_execution()\n",
    "AUTOTUNE = tf.data.AUTOTUNE\n",
    "BUFFER_SIZE = 512\n",
    "BATCH_SIZE = 32\n",
    "\n",
    "train_ds = train_ds.shuffle(BUFFER_SIZE).batch(BATCH_SIZE).cache().prefetch(AUTOTUNE)\n",
    "valid_ds = valid_ds.batch(BATCH_SIZE).cache().prefetch(AUTOTUNE)\n",
    "num_train = len(train_ds)\n",
    "num_valid = len(valid_ds)\n",
    "num_train, num_valid"
   ],
   "metadata": {
    "collapsed": false
   }
  },
  {
   "cell_type": "code",
   "execution_count": 9,
   "outputs": [
    {
     "name": "stdout",
     "output_type": "stream",
     "text": [
      "(32,) (32,) (32,)\n"
     ]
    },
    {
     "data": {
      "text/plain": "<tf.Tensor: shape=(32,), dtype=float32, numpy=\narray([0. , 0. , 0. , 0. , 1. , 1. , 1. , 0. , 0. , 1. , 1. , 1. , 1. ,\n       1. , 1. , 0. , 0. , 1. , 1. , 1. , 1. , 1. , 0.2, 0.2, 0. , 1. ,\n       1. , 0. , 1. , 1. , 0. , 1. ], dtype=float32)>"
     },
     "execution_count": 9,
     "metadata": {},
     "output_type": "execute_result"
    }
   ],
   "source": [
    "for x, y in train_ds.take(1):\n",
    "    print(x[0].shape, x[1].shape, y.shape)\n",
    "y"
   ],
   "metadata": {
    "collapsed": false
   }
  },
  {
   "cell_type": "code",
   "execution_count": 10,
   "outputs": [],
   "source": [
    "loss = tf.keras.losses.MeanSquaredError()\n",
    "metrics = tf.metrics.MeanAbsoluteError()\n",
    "epochs = 5\n",
    "num_train_steps = num_train * epochs\n",
    "num_warmup_steps = int(0.1 * num_train_steps)\n",
    "init_lr = 1e-4\n",
    "optimizer = optimization.create_optimizer(init_lr=init_lr,\n",
    "                                          num_train_steps=num_train_steps,\n",
    "                                          num_warmup_steps=num_warmup_steps,\n",
    "                                          optimizer_type='adamw')\n",
    "callbacks = tf.keras.callbacks.TensorBoard(log_dir='logs')\n",
    "title_units = 32\n",
    "content_units = 128"
   ],
   "metadata": {
    "collapsed": false
   }
  },
  {
   "cell_type": "code",
   "execution_count": 11,
   "outputs": [],
   "source": [
    "from model import tfcm\n",
    "\n",
    "regressioner = tfcm.build_regression_model(title_units, content_units, fine_tune=False)"
   ],
   "metadata": {
    "collapsed": false
   }
  },
  {
   "cell_type": "code",
   "execution_count": 12,
   "outputs": [
    {
     "data": {
      "image/png": "[encoded data removed]",
      "text/plain": "<IPython.core.display.Image object>"
     },
     "execution_count": 12,
     "metadata": {},
     "output_type": "execute_result"
    }
   ],
   "source": [
    "from keras.utils import plot_model\n",
    "\n",
    "os.environ[\"PATH\"] += os.pathsep + 'D:/Graphviz/2.38/bin/'\n",
    "plot_model(regressioner, to_file='model/structure_regressioner.png', dpi=128)"
   ],
   "metadata": {
    "collapsed": false
   }
  },
  {
   "cell_type": "code",
   "execution_count": 13,
   "outputs": [
    {
     "name": "stdout",
     "output_type": "stream",
     "text": [
      "Epoch 1/5\n",
      "680/680 [==============================] - 683s 987ms/step - loss: 0.2322 - mean_absolute_error: 0.4446 - val_loss: 0.2214 - val_mean_absolute_error: 0.4519\n",
      "Epoch 2/5\n",
      "680/680 [==============================] - 717s 1s/step - loss: 0.2111 - mean_absolute_error: 0.4274 - val_loss: 0.2145 - val_mean_absolute_error: 0.4432\n",
      "Epoch 3/5\n",
      "680/680 [==============================] - 704s 1s/step - loss: 0.2085 - mean_absolute_error: 0.4249 - val_loss: 0.2089 - val_mean_absolute_error: 0.4348\n",
      "Epoch 4/5\n",
      "680/680 [==============================] - 704s 1s/step - loss: 0.2066 - mean_absolute_error: 0.4235 - val_loss: 0.2062 - val_mean_absolute_error: 0.4293\n",
      "Epoch 5/5\n",
      "680/680 [==============================] - 703s 1s/step - loss: 0.2051 - mean_absolute_error: 0.4227 - val_loss: 0.2040 - val_mean_absolute_error: 0.4219\n"
     ]
    }
   ],
   "source": [
    "regressioner.compile(optimizer=optimizer, loss=loss, metrics=metrics)\n",
    "history = regressioner.fit(train_ds, validation_data=valid_ds, epochs=epochs, callbacks=[callbacks])"
   ],
   "metadata": {
    "collapsed": false
   }
  },
  {
   "cell_type": "code",
   "execution_count": 18,
   "outputs": [
    {
     "name": "stdout",
     "output_type": "stream",
     "text": [
      "194/194 [==============================] - 165s 854ms/step\n"
     ]
    },
    {
     "data": {
      "text/plain": "array([[0.6369547 ],\n       [0.72742546],\n       [0.6899878 ],\n       ...,\n       [0.6193234 ],\n       [0.7055019 ],\n       [0.6910982 ]], dtype=float32)"
     },
     "execution_count": 18,
     "metadata": {},
     "output_type": "execute_result"
    }
   ],
   "source": [
    "test_data = np.vectorize(id2text)(np.array(list(raw_ds['test_reg'])))\n",
    "test_label = regressioner.predict(test_data)\n",
    "test_label"
   ],
   "metadata": {
    "collapsed": false
   }
  },
  {
   "cell_type": "code",
   "execution_count": null,
   "outputs": [],
   "source": [
    "raw_ds = preprocess('bert')"
   ],
   "metadata": {
    "collapsed": false
   }
  }
 ],
 "metadata": {
  "kernelspec": {
   "display_name": "Python 3",
   "language": "python",
   "name": "python3"
  },
  "language_info": {
   "codemirror_mode": {
    "name": "ipython",
    "version": 2
   },
   "file_extension": ".py",
   "mimetype": "text/x-python",
   "name": "python",
   "nbconvert_exporter": "python",
   "pygments_lexer": "ipython2",
   "version": "2.7.6"
  }
 },
 "nbformat": 4,
 "nbformat_minor": 0
}
